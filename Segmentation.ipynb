{
 "cells": [
  {
   "cell_type": "code",
   "execution_count": 17,
   "metadata": {},
   "outputs": [
    {
     "name": "stderr",
     "output_type": "stream",
     "text": [
      "c:\\Users\\max55\\AppData\\Local\\Programs\\Python\\Python311\\Lib\\site-packages\\sklearn\\cluster\\_kmeans.py:870: FutureWarning: The default value of `n_init` will change from 10 to 'auto' in 1.4. Set the value of `n_init` explicitly to suppress the warning\n",
      "  warnings.warn(\n",
      "c:\\Users\\max55\\AppData\\Local\\Programs\\Python\\Python311\\Lib\\site-packages\\sklearn\\cluster\\_kmeans.py:870: FutureWarning: The default value of `n_init` will change from 10 to 'auto' in 1.4. Set the value of `n_init` explicitly to suppress the warning\n",
      "  warnings.warn(\n"
     ]
    }
   ],
   "source": [
    "import numpy as np\n",
    "from PIL import Image\n",
    "from sklearn.cluster import KMeans\n",
    "\n",
    "def k_means_clustering(k, data):\n",
    "    kmeans = KMeans(n_clusters=k, random_state=0).fit(data)\n",
    "    return kmeans.labels_, kmeans.cluster_centers_\n",
    "\n",
    "img = Image.open(\"lady.png\")\n",
    "stroke_mask = Image.open(\"lady stroke 2.png\").convert(\"RGB\")\n",
    "\n",
    "wid, hgt = img.size\n",
    "\n",
    "img_np = np.array(img)\n",
    "stroke_mask_np = np.array(stroke_mask)\n",
    "\n",
    "# Extracting seeds from stroke mask\n",
    "fg_mask = (stroke_mask_np == [255, 0, 0]).all(axis=2)\n",
    "bg_mask = (stroke_mask_np == [6, 0, 255]).all(axis=2)\n",
    "\n",
    "fg_points = img_np[fg_mask]\n",
    "bg_points = img_np[bg_mask]\n",
    "\n",
    "# Clustering\n",
    "N = 74\n",
    "fg_lbl, fg_ctr = k_means_clustering(N, fg_points)\n",
    "bg_lbl, bg_ctr = k_means_clustering(N, bg_points)\n",
    "\n",
    "# Likelihood\n",
    "wk = 0.1\n",
    "p_fg = np.zeros((hgt, wid))\n",
    "p_bg = np.zeros((hgt, wid))\n",
    "\n",
    "for j in range(hgt):\n",
    "    for i in range(wid):\n",
    "\n",
    "        pxl = img_np[j, i]\n",
    "        p_fg[j, i] = np.sum([wk * np.exp(-np.linalg.norm(pxl - fg_ctr[k])) for k in range(N)])\n",
    "        p_bg[j, i] = np.sum([wk * np.exp(-np.linalg.norm(pxl - bg_ctr[k])) for k in range(N)])\n",
    "\n",
    "# Assign segmentation based on Likelihood\n",
    "segmt = np.zeros((hgt, wid, 3), dtype=np.uint8)\n",
    "\n",
    "for j in range(hgt):\n",
    "    for i in range(wid):\n",
    "        if p_fg[j, i] > p_bg[j, i]: \n",
    "            segmt[j, i] = img_np[j, i]\n",
    "        else:\n",
    "            segmt[j, i] = [255, 255, 255]\n",
    "\n",
    "\n",
    "segmt_img = Image.fromarray(segmt)\n",
    "segmt_img.save(\"segmentation_lady_stroke2.png\")"
   ]
  }
 ],
 "metadata": {
  "kernelspec": {
   "display_name": "base",
   "language": "python",
   "name": "python3"
  },
  "language_info": {
   "codemirror_mode": {
    "name": "ipython",
    "version": 3
   },
   "file_extension": ".py",
   "mimetype": "text/x-python",
   "name": "python",
   "nbconvert_exporter": "python",
   "pygments_lexer": "ipython3",
   "version": "3.11.1"
  },
  "orig_nbformat": 4
 },
 "nbformat": 4,
 "nbformat_minor": 2
}
